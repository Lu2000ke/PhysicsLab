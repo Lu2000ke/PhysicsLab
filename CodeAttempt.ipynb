{
 "cells": [
  {
   "cell_type": "code",
   "execution_count": 8,
   "id": "34f938a0",
   "metadata": {},
   "outputs": [
    {
     "name": "stdout",
     "output_type": "stream",
     "text": [
      "205.2\n"
     ]
    }
   ],
   "source": [
    "import numpy as np\n",
    "\n",
    "def fred(a,b):\n",
    "    c = (a+b)*12\n",
    "    return c\n",
    "a = 13.2\n",
    "b = 3.9\n",
    "\n",
    "c = fred(a,b)\n",
    "print (c)"
   ]
  },
  {
   "cell_type": "raw",
   "id": "8041ddfe",
   "metadata": {},
   "source": [
    "def rule3(da, db):\n",
    "    dQ = np.sqrt(da**2+db**2)\n",
    "    return dQ\n",
    "d1 = 1.2\n",
    "d2 = 1.3\n",
    "errd1 = 0.01\n",
    "errd2= 0.01\n",
    "errdtotal = rule3(errd1,errd2)\n",
    "print (errdtotal)\n"
   ]
  },
  {
   "cell_type": "code",
   "execution_count": 10,
   "id": "6ca0dc81",
   "metadata": {},
   "outputs": [],
   "source": [
    "def rule1(da,c):\n",
    "    dQ = abs(c)*da\n",
    "    return dQ\n",
    "\n",
    "    "
   ]
  },
  {
   "cell_type": "code",
   "execution_count": 11,
   "id": "33989bc0",
   "metadata": {},
   "outputs": [],
   "source": [
    "def rule2(c,m,da):\n",
    "    dQ = abs(c*m*A**(m-1))*da\n",
    "    return dQ"
   ]
  },
  {
   "cell_type": "code",
   "execution_count": 11,
   "id": "502dc660",
   "metadata": {},
   "outputs": [
    {
     "name": "stdout",
     "output_type": "stream",
     "text": [
      "0.01441738584362378\n"
     ]
    }
   ],
   "source": [
    "def rule4(c, m, n, da, db, A, B, Q):\n",
    "    dQ = Q*np.sqrt((m*da/A)**2+(n*db/B)**2)\n",
    "    return dQ\n",
    "m = 1\n",
    "da = 0.006\n",
    "A = 1.012\n",
    "n = -0.5\n",
    "db = 0.005\n",
    "B = 0.998\n",
    "Q = 2.24\n",
    "#My answer matches my lab value of 0.014\n",
    "Answer = rule4(c,m,n,da,db,A,B,Q)\n",
    "print (Answer)"
   ]
  },
  {
   "cell_type": "code",
   "execution_count": 25,
   "id": "c27d8392",
   "metadata": {},
   "outputs": [
    {
     "name": "stdout",
     "output_type": "stream",
     "text": [
      "1.1166666666666667\n"
     ]
    }
   ],
   "source": [
    "x = np.array([1.1,1.3,1.4,0.9,0.95,1.05])\n",
    "std_x = np.std(x)\n",
    "xmean = np.average(x)\n",
    "print (xmean)"
   ]
  },
  {
   "cell_type": "markdown",
   "id": "6c64cc9f",
   "metadata": {},
   "source": [
    "$\\delta Q = \\sqrt{(\\delta A^2+\\delta B^2)}$"
   ]
  },
  {
   "cell_type": "markdown",
   "id": "529451b1",
   "metadata": {},
   "source": [
    "$\\delta Q = 2.24 \\sqrt{(0.006/1.012)^2+((-1/2)(0.005/0.998)^2)}$"
   ]
  },
  {
   "cell_type": "code",
   "execution_count": null,
   "id": "543640a0",
   "metadata": {},
   "outputs": [],
   "source": []
  }
 ],
 "metadata": {
  "kernelspec": {
   "display_name": "Python 3",
   "language": "python",
   "name": "python3"
  },
  "language_info": {
   "codemirror_mode": {
    "name": "ipython",
    "version": 3
   },
   "file_extension": ".py",
   "mimetype": "text/x-python",
   "name": "python",
   "nbconvert_exporter": "python",
   "pygments_lexer": "ipython3",
   "version": "3.8.8"
  }
 },
 "nbformat": 4,
 "nbformat_minor": 5
}
